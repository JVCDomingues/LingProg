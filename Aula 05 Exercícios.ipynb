{
 "cells": [
  {
   "cell_type": "markdown",
   "metadata": {},
   "source": [
    "### João Victor Cardoso Domingues - 81712548"
   ]
  },
  {
   "cell_type": "markdown",
   "metadata": {},
   "source": [
    "### 1 - Linha: Crie a classe Linha que tem dois atributos, coordenada1 e coordenada2. Cada coordenada é uma tupla que carrega duas coordenadas cartesianas (x,y) que denotam pontos do segmento de reta. Faça métodos que calculem o comprimento do segmento de reta e sua inclinação."
   ]
  },
  {
   "cell_type": "code",
   "execution_count": 1,
   "metadata": {},
   "outputs": [
    {
     "name": "stdout",
     "output_type": "stream",
     "text": [
      "7.211102550927978\n",
      "1.5\n"
     ]
    }
   ],
   "source": [
    "import math\n",
    "class Linha:\n",
    "    \n",
    "    def __init__(self, c1, c2):\n",
    "        self.coordenada1 = c1\n",
    "        self.coordenada2 = c2\n",
    "        \n",
    "    def calcularComprimento(self):\n",
    "        return math.sqrt((self.coordenada2[0] - self.coordenada1[0])**2 + (self.coordenada2[1] - self.coordenada1[1])**2)\n",
    "    \n",
    "    def calcularInclinacao(self):\n",
    "        return (self.coordenada2[1] - self.coordenada1[1]) / (self.coordenada2[0] - self.coordenada1[0])\n",
    "    \n",
    "linha = Linha((3, 2), (7, 8))\n",
    "print(linha.calcularComprimento())\n",
    "print(linha.calcularInclinacao())"
   ]
  },
  {
   "cell_type": "markdown",
   "metadata": {},
   "source": [
    "### 2 - Figuras: Crie a seguinte hierarquia de classes de figuras geométricas. Veja na figura as fórmulas:\n",
    "\n",
    "##### a. A classe abstrata Figura deve ter o método abstrato area.\n",
    "##### b. A classe concreta Circulo é subclasse de Figura.\n",
    "##### c. A classe abstrata Poligono é subclasse de Figura e deve ter os atributos base e altura .\n",
    "##### d. As classes concretas Triangulo, Losango, Retangulo e Quadrado são subclasses de Poligono. Tente criar mais uma generalização aqui olhando as fórmulas da área.\n",
    "##### e. Os polígonos Retangulo e Quadrado devem implementar a interface Diagonal, que deve ter um método que calcula a diagonal.\n",
    "##### f. Crie uma classe Geometria com uma lista de Figuras com pelo menos uma figura de cada e imprima suas áreas, perímetros e diagonais."
   ]
  },
  {
   "cell_type": "code",
   "execution_count": 2,
   "metadata": {},
   "outputs": [
    {
     "data": {
      "text/plain": [
       "'Quadrado: 4, Triângulo: 7.5, Retângulo: 50'"
      ]
     },
     "execution_count": 2,
     "metadata": {},
     "output_type": "execute_result"
    }
   ],
   "source": [
    "import math\n",
    "\n",
    "class Figura(object):\n",
    "    def __init__(self):\n",
    "        pass\n",
    "    \n",
    "    def area(self):\n",
    "        pass\n",
    "    \n",
    "class Circulo(Figura):\n",
    "    def __init__(self, raio):\n",
    "        Figura.__init__(self)\n",
    "        self.raio = raio\n",
    "    \n",
    "    def area(self):\n",
    "        return math.pi * math.pow(raio, 2)\n",
    "    \n",
    "class Poligono(Figura):\n",
    "    def __init__(self, base, altura):\n",
    "        Figura.__init__(self)\n",
    "        self.base = base\n",
    "        self.altura = altura\n",
    "        \n",
    "    def area(self):\n",
    "        raise NotImplementedError(\"A subclasse deve implementar o método abstrato\")\n",
    "        \n",
    "class Retangulo(Poligono):\n",
    "    \n",
    "    def area(self):\n",
    "        return self.base * self.altura\n",
    "\n",
    "class Quadrado(Poligono):\n",
    "        \n",
    "    def area(self):\n",
    "        return self.base * self.altura\n",
    "        \n",
    "class Triangulo(Poligono):  \n",
    "        \n",
    "    def area(self):\n",
    "        return (self.base * self.altura) / 2\n",
    "\n",
    "class Losango(Poligono):\n",
    "        \n",
    "    def area(self):\n",
    "        pass\n",
    "    \n",
    "class Geometria:\n",
    "    def __init__(self, quadrado, triangulo, retangulo):\n",
    "        self.quadrado = quadrado\n",
    "        self.triangulo = triangulo\n",
    "        self.retangulo = retangulo\n",
    "    \n",
    "    def __str__(self):\n",
    "        return \"Quadrado: %s, Triângulo: %s, Retângulo: %s\" % (self.quadrado.area(), self.triangulo.area(), self.retangulo.area())\n",
    "    \n",
    "q = Quadrado(2, 2)\n",
    "t = Triangulo(5, 3)\n",
    "r = Retangulo(10, 5)\n",
    "g = Geometria(q, t, r)\n",
    "\n",
    "g.__str__()"
   ]
  },
  {
   "cell_type": "markdown",
   "metadata": {},
   "source": [
    "### 3 - Jogo de Blacjack: Faça um joguinho simples em Python. Aqui estão os requisitos:\n",
    "- Você precisa criar um jogo de BlackJack (21) baseado em texto simples\n",
    "- O jogo precisa ter um jogador contra um croupier automatizado.\n",
    "- O jogador pode desistir ou bater.\n",
    "- O jogador deve ser capaz de escolher o seu valor de aposta.\n",
    "- Você precisa acompanhar o dinheiro total do jogador.\n",
    "- Você precisa alertar o jogador de vitórias, derrotas ou estouros, etc ..."
   ]
  },
  {
   "cell_type": "code",
   "execution_count": null,
   "metadata": {},
   "outputs": [],
   "source": []
  }
 ],
 "metadata": {
  "kernelspec": {
   "display_name": "Python 3",
   "language": "python",
   "name": "python3"
  },
  "language_info": {
   "codemirror_mode": {
    "name": "ipython",
    "version": 3
   },
   "file_extension": ".py",
   "mimetype": "text/x-python",
   "name": "python",
   "nbconvert_exporter": "python",
   "pygments_lexer": "ipython3",
   "version": "3.7.1"
  }
 },
 "nbformat": 4,
 "nbformat_minor": 2
}
