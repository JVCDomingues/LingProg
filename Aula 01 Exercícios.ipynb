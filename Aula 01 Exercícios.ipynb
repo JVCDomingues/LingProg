{
 "cells": [
  {
   "cell_type": "markdown",
   "metadata": {},
   "source": [
    "### João Victor Cardoso Domingues - 81712548"
   ]
  },
  {
   "cell_type": "markdown",
   "metadata": {},
   "source": [
    "### 1 - Faça um Programa que peça o raio de um círculo, calcule e mostre sua área."
   ]
  },
  {
   "cell_type": "code",
   "execution_count": 6,
   "metadata": {},
   "outputs": [
    {
     "name": "stdout",
     "output_type": "stream",
     "text": [
      "informe o raio15\n",
      "Area do circulo  706.8582\n"
     ]
    }
   ],
   "source": [
    "pi = 3.141592\n",
    "raio  = float(input(\"informe o raio\"))\n",
    "area = pi * (raio * raio)\n",
    "print(\"Area do circulo \", area)"
   ]
  },
  {
   "cell_type": "markdown",
   "metadata": {},
   "source": [
    "### 2 - Faça um Programa que calcule a área de um quadrado, em seguida mostre o dobro desta área para o usuário."
   ]
  },
  {
   "cell_type": "code",
   "execution_count": 11,
   "metadata": {},
   "outputs": [
    {
     "name": "stdout",
     "output_type": "stream",
     "text": [
      "Informe um lado do quadrado5\n",
      "Informe o outro lado do quadrado5\n",
      "Area ao quadrado  50.0\n"
     ]
    }
   ],
   "source": [
    "lado = float(input(\"Informe um lado do quadrado\"))\n",
    "lado2 = float(input(\"Informe o outro lado do quadrado\"))\n",
    "area = lado * lado2\n",
    "areaQuadrado = area*2\n",
    "print(\"Area ao quadrado \", areaQuadrado)"
   ]
  },
  {
   "cell_type": "markdown",
   "metadata": {},
   "source": [
    "### 3 - Faça um Programa que pergunte quanto você ganha por hora e o número de horas trabalhadas no mês. Calcule e mostre o total do seu salário no referido mês."
   ]
  },
  {
   "cell_type": "code",
   "execution_count": 12,
   "metadata": {},
   "outputs": [
    {
     "name": "stdout",
     "output_type": "stream",
     "text": [
      "Quanto ganha por hora 150\n",
      "Quantidade de horas trabalhadas 8\n",
      "Seu salario eh  1200.0\n"
     ]
    }
   ],
   "source": [
    "ganhoHora = float(input(\"Quanto ganha por hora \"))\n",
    "horasTrabalhadas = float(input(\"Quantidade de horas trabalhadas \"))\n",
    "salario = ganhoHora * horasTrabalhadas\n",
    "print(\"Seu salario eh \", salario)"
   ]
  },
  {
   "cell_type": "markdown",
   "metadata": {},
   "source": [
    "### 4 - Faça um Programa que peça a temperatura em graus Farenheit, transforme e mostre a temperatura em graus Celsius. C = (5 * (F-32) / 9)."
   ]
  },
  {
   "cell_type": "code",
   "execution_count": 15,
   "metadata": {},
   "outputs": [
    {
     "name": "stdout",
     "output_type": "stream",
     "text": [
      "Digite a temperatura em farenheit 75\n",
      "A temperatura em Celsius  23.88888888888889\n"
     ]
    }
   ],
   "source": [
    "temperaturaF = int(input(\"Digite a temperatura em farenheit \"))\n",
    "temperaturaC = (5*(temperaturaF-32)/9)\n",
    "print(\"A temperatura em Celsius \", temperaturaC)"
   ]
  },
  {
   "cell_type": "markdown",
   "metadata": {},
   "source": [
    "### 5 - Faça um Programa que peça a temperatura em graus Celsius, transforme e mostre em graus Farenheit."
   ]
  },
  {
   "cell_type": "code",
   "execution_count": 19,
   "metadata": {},
   "outputs": [
    {
     "name": "stdout",
     "output_type": "stream",
     "text": [
      "Digite a temperatura em celsius 0\n",
      "Temperatura em Fahrenheit  32.0\n"
     ]
    }
   ],
   "source": [
    "tempCelsius = int(input(\"Digite a temperatura em celsius \"))\n",
    "tempFahren = (tempCelsius * 5/9) + 32\n",
    "print(\"Temperatura em Fahrenheit \", tempFahren)"
   ]
  },
  {
   "cell_type": "markdown",
   "metadata": {},
   "source": [
    "### 6 - Faça um Programa que peça 2 números inteiros e um número real. Calcule e mostre: \n",
    "- o produto do dobro do primeiro com metade do segundo . \n",
    "- a soma do triplo do primeiro com o terceiro.\n",
    "- o terceiro elevado ao cubo."
   ]
  },
  {
   "cell_type": "code",
   "execution_count": 23,
   "metadata": {},
   "outputs": [
    {
     "name": "stdout",
     "output_type": "stream",
     "text": [
      "Digite um número 1\n",
      "Digite outro número 2\n",
      "Digite um número real 3\n",
      "o produto do dobro do primeiro com metade do segundo:  2.0\n",
      "a soma do triplo do primeiro com o terceiro:  6.0\n",
      "o terceiro elevado ao cubo:  27.0\n"
     ]
    }
   ],
   "source": [
    "num1 = int(input(\"Digite um número \"))\n",
    "num2 = int(input(\"Digite outro número \"))\n",
    "numReal = float(input(\"Digite um número real \"))\n",
    "\n",
    "a = (num1*2) * (num2/2)\n",
    "b = num1*3 + numReal\n",
    "c = numReal**3\n",
    "\n",
    "print(\"o produto do dobro do primeiro com metade do segundo: \", a)\n",
    "print(\"a soma do triplo do primeiro com o terceiro: \", b)\n",
    "print(\"o terceiro elevado ao cubo: \", c)"
   ]
  },
  {
   "cell_type": "markdown",
   "metadata": {},
   "source": [
    "### 7 - João Papo-de-Pescador, homem de bem, comprou um microcomputador para controlar o rendimento diário de seu trabalho. Toda vez que ele traz um peso de peixes maior que o estabelecido pelo regulamento de pesca do estado de São Paulo (50 quilos) deve pagar uma multa de RS 4,00 por quilo excedente. João precisa que você faça um programa que leia a variável peso (peso de peixes) e verifique se há excesso. Se houver, gravar na variável excesso e na variável multa o valor da multa que João deverá pagar. Caso contrário mostrar tais variáveis com o conteúdo ZERO."
   ]
  },
  {
   "cell_type": "code",
   "execution_count": 24,
   "metadata": {},
   "outputs": [
    {
     "name": "stdout",
     "output_type": "stream",
     "text": [
      "Digite o peso 551.67\n",
      "excesso: 501.66999999999996; multa: 2006.6799999999998  \n",
      "excesso: 501.67; multa:   2.01e+03 \n"
     ]
    }
   ],
   "source": [
    "peso = float(input(\"Digite o peso \"))\n",
    "excesso = peso - 50\n",
    "if excesso < 0:\n",
    "    excesso = 0\n",
    "multa = excesso * 4\n",
    "print(f'excesso: {excesso}; multa: {multa}  ')\n",
    "print(f'excesso: {excesso:.2f}; multa: {multa:{10}.{3}} ')"
   ]
  },
  {
   "cell_type": "markdown",
   "metadata": {},
   "source": [
    "### 8 - Faça um Programa que pergunte quanto você ganha por hora e o número de horas trabalhadas no mês. Calcule e mostre o total do seu salário no referido mês, sabendo-se que são descontados 11% para o Imposto de Renda, 8% para o INSS e 5% para o sindicato, faça um programa que nos dê: \n",
    "- salário bruto.\n",
    "- quanto pagou ao INSS.\n",
    "- quanto pagou ao sindicato.\n",
    "- o salário líquido."
   ]
  },
  {
   "cell_type": "code",
   "execution_count": 3,
   "metadata": {},
   "outputs": [
    {
     "name": "stdout",
     "output_type": "stream",
     "text": [
      "Quanto ganha por hora? 15.55\n",
      "Número de horas trabalhadas no mês? 130\n",
      "Salário bruto: R$ 2021.5\n",
      "Quanto pagou ao INSS: R$ 161.72\n",
      "Quanto pagou ao sindicato: R$ 101.075\n",
      "Salário líquido: R$ 1536.34\n"
     ]
    }
   ],
   "source": [
    "ganhoHora = float(input(\"Quanto ganha por hora? \"))\n",
    "numeroHoras = float(input(\"Número de horas trabalhadas no mês? \"))\n",
    "\n",
    "bruto = ganhoHora*numeroHoras\n",
    "inss = bruto * 0.08\n",
    "sindicato = bruto * 0.05\n",
    "impostoRenda = bruto * 0.11\n",
    "desconto = inss + sindicato + impostoRenda\n",
    "liq = bruto  - desconto\n",
    "\n",
    "print(\"Salário bruto: R$\", bruto)\n",
    "print(\"Quanto pagou ao INSS: R$\", inss)\n",
    "print(\"Quanto pagou ao sindicato: R$\", sindicato)\n",
    "print(\"Salário líquido: R$\", liq)"
   ]
  },
  {
   "cell_type": "markdown",
   "metadata": {},
   "source": [
    "### 9 - Faça um programa que leia 2 strings e informe o conteúdo delas seguido do seu comprimento. Informe também se as duas strings possuem o mesmo comprimento e são iguais ou diferentes no conteúdo. Exemplo: String 1: Brasil Hexa 2018 String 2: Brasil! Hexa 2018!\n",
    "Tamanho de \"Brasil Hexa 2018\": 16 caracteres\n",
    "Tamanho de \"Brasil! Hexa 2018!\": 18 caracteres\n",
    "As duas strings são de tamanhos diferentes.\n",
    "As duas strings possuem conteúdo diferente."
   ]
  },
  {
   "cell_type": "code",
   "execution_count": 11,
   "metadata": {},
   "outputs": [
    {
     "name": "stdout",
     "output_type": "stream",
     "text": [
      "Digite uma string: Brasil Hexa 2018\n",
      "Digite outra string: Brasil! Hexa 2018!\n",
      "Brasil Hexa 2018\n",
      "Brasil! Hexa 2018!\n",
      "Comprimento da primeira string:  16 caracteres\n",
      "Comprimento da segunda string:  18 caracteres\n",
      "As duas strings não tem o mesmo tamanho!\n",
      "As duas strings são diferentes!\n"
     ]
    }
   ],
   "source": [
    "string = input(\"Digite uma string: \")\n",
    "string2 = input(\"Digite outra string: \")\n",
    "\n",
    "print(string)\n",
    "print(string2)\n",
    "\n",
    "length = len(string)\n",
    "length2 = len(string2)\n",
    "\n",
    "print(\"Comprimento da primeira string: \", length, \"caracteres\")\n",
    "print(\"Comprimento da segunda string: \", length2, \"caracteres\")\n",
    "\n",
    "if(length == length2):\n",
    "    print(\"As duas strings tem o mesmo tamanho!\")\n",
    "    if(string == string2):\n",
    "        print(\"As duas strings são iguais!\")\n",
    "    else:\n",
    "        print(\"As duas strings são diferentes!\")\n",
    "else:\n",
    "        print(\"As duas strings não tem o mesmo tamanho!\")\n",
    "        print(\"As duas strings são diferentes!\")"
   ]
  },
  {
   "cell_type": "markdown",
   "metadata": {},
   "source": [
    "### 10 - Faça um programa que permita ao usuário digitar o seu nome e em seguida mostre o nome do usuário de trás para frente utilizando somente letras maiúsculas. Dica: lembre−se que ao informar o nome o usuário pode digitar letras maiúsculas ou minúsculas. Observação: não use loops."
   ]
  },
  {
   "cell_type": "code",
   "execution_count": 12,
   "metadata": {},
   "outputs": [
    {
     "name": "stdout",
     "output_type": "stream",
     "text": [
      "Digite seu nome: João\n",
      "OÃOJ\n"
     ]
    }
   ],
   "source": [
    "nome = input(\"Digite seu nome: \")\n",
    "bug = nome[::-1].upper()\n",
    "print(bug)"
   ]
  },
  {
   "cell_type": "markdown",
   "metadata": {},
   "source": [
    "### 11 - Faça um programa que solicite a data de nascimento (dd/mm/aaaa) do usuário e imprima a data com o nome do mês por extenso. Data de Nascimento: 29/10/1973. Você nasceu em 29 de Outubro de 1973."
   ]
  },
  {
   "cell_type": "code",
   "execution_count": 16,
   "metadata": {},
   "outputs": [
    {
     "name": "stdout",
     "output_type": "stream",
     "text": [
      "Informe a data de seu nascimento: 10/02/1999\n",
      "Você nasceu em 10 de fevereiro de 1999\n"
     ]
    }
   ],
   "source": [
    "meses = [\"janeiro\",\n",
    "         \"fevereiro\",\n",
    "         \"março\",\n",
    "         \"abril\",\n",
    "         \"maio\",\n",
    "         \"junho\",\n",
    "         \"julho\",\n",
    "         \"agosto\",\n",
    "         \"setembro\",\n",
    "         \"outubro\",\n",
    "         \"novembro\",\n",
    "         \"dezembro\"]\n",
    "\n",
    "data = input(\"Informe a data de seu nascimento: \")\n",
    "print (\"Você nasceu em\", data.split(\"/\")[0], \"de\", meses[(int(data.split(\"/\")[1])-1)], \"de\", data.split(\"/\")[2])"
   ]
  },
  {
   "cell_type": "markdown",
   "metadata": {},
   "source": [
    "### 12 - Leet é uma forma de se escrever o alfabeto latino usando outros símbolos em lugar das letras, como números por exemplo. A própria palavra leet admite muitas variações, como l33t ou 1337. O uso do leet reflete uma subcultura relacionada ao mundo dos jogos de computador e internet, sendo muito usada para confundir os iniciantes e afirmar-se como parte de um grupo. Pesquise sobre as principais formas de traduzir as letras. Depois, faça um programa que peça uma texto e transforme-o para a grafia leet speak."
   ]
  },
  {
   "cell_type": "code",
   "execution_count": 19,
   "metadata": {},
   "outputs": [
    {
     "name": "stdout",
     "output_type": "stream",
     "text": [
      "Digite o texto: leet gameplays\n",
      "1337 g4m3p14y5\n"
     ]
    }
   ],
   "source": [
    "leet = input(\"Digite o texto: \")\n",
    "\n",
    "leet = leet.replace(\"a\", \"4\")\n",
    "leet = leet.replace(\"A\", \"4\")\n",
    "leet = leet.replace(\"e\", \"3\")\n",
    "leet = leet.replace(\"E\", \"3\")\n",
    "leet = leet.replace(\"i\", \"1\")\n",
    "leet = leet.replace(\"I\", \"1\")\n",
    "leet = leet.replace(\"o\", \"0\")\n",
    "leet = leet.replace(\"O\", \"0\")\n",
    "leet = leet.replace(\"t\", \"7\")\n",
    "leet = leet.replace(\"T\", \"7\")\n",
    "leet = leet.replace(\"s\", \"5\")\n",
    "leet = leet.replace(\"S\", \"5\")\n",
    "leet = leet.replace(\"l\", \"1\")\n",
    "leet = leet.replace(\"L\", \"1\")\n",
    "\n",
    "print(leet)"
   ]
  },
  {
   "cell_type": "code",
   "execution_count": null,
   "metadata": {},
   "outputs": [],
   "source": []
  }
 ],
 "metadata": {
  "kernelspec": {
   "display_name": "Python 3",
   "language": "python",
   "name": "python3"
  },
  "language_info": {
   "codemirror_mode": {
    "name": "ipython",
    "version": 3
   },
   "file_extension": ".py",
   "mimetype": "text/x-python",
   "name": "python",
   "nbconvert_exporter": "python",
   "pygments_lexer": "ipython3",
   "version": "3.7.1"
  }
 },
 "nbformat": 4,
 "nbformat_minor": 2
}
