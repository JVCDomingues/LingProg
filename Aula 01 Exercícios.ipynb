{
 "cells": [
  {
   "cell_type": "markdown",
   "metadata": {},
   "source": [
    "### João Victor Cardoso Domingues - 81712548"
   ]
  },
  {
   "cell_type": "markdown",
   "metadata": {},
   "source": [
    "### 1 - Faça um Programa que peça o raio de um círculo, calcule e mostre sua área."
   ]
  },
  {
   "cell_type": "code",
   "execution_count": 6,
   "metadata": {},
   "outputs": [
    {
     "name": "stdout",
     "output_type": "stream",
     "text": [
      "informe o raio15\n",
      "Area do circulo  706.8582\n"
     ]
    }
   ],
   "source": [
    "pi = 3.141592\n",
    "raio  = float(input(\"informe o raio\"))\n",
    "area = pi * (raio * raio)\n",
    "print(\"Area do circulo \", area)"
   ]
  },
  {
   "cell_type": "markdown",
   "metadata": {},
   "source": [
    "### 2 - Faça um Programa que calcule a área de um quadrado, em seguida mostre o dobro desta área para o usuário."
   ]
  },
  {
   "cell_type": "code",
   "execution_count": 11,
   "metadata": {},
   "outputs": [
    {
     "name": "stdout",
     "output_type": "stream",
     "text": [
      "Informe um lado do quadrado5\n",
      "Informe o outro lado do quadrado5\n",
      "Area ao quadrado  50.0\n"
     ]
    }
   ],
   "source": [
    "lado = float(input(\"Informe um lado do quadrado\"))\n",
    "lado2 = float(input(\"Informe o outro lado do quadrado\"))\n",
    "area = lado * lado2\n",
    "areaQuadrado = area*2\n",
    "print(\"Area ao quadrado \", areaQuadrado)"
   ]
  },
  {
   "cell_type": "markdown",
   "metadata": {},
   "source": [
    "### 3 - Faça um Programa que pergunte quanto você ganha por hora e o número de horas trabalhadas no mês. Calcule e mostre o total do seu salário no referido mês."
   ]
  },
  {
   "cell_type": "code",
   "execution_count": 12,
   "metadata": {},
   "outputs": [
    {
     "name": "stdout",
     "output_type": "stream",
     "text": [
      "Quanto ganha por hora 150\n",
      "Quantidade de horas trabalhadas 8\n",
      "Seu salario eh  1200.0\n"
     ]
    }
   ],
   "source": [
    "ganhoHora = float(input(\"Quanto ganha por hora \"))\n",
    "horasTrabalhadas = float(input(\"Quantidade de horas trabalhadas \"))\n",
    "salario = ganhoHora * horasTrabalhadas\n",
    "print(\"Seu salario eh \", salario)"
   ]
  },
  {
   "cell_type": "markdown",
   "metadata": {},
   "source": [
    "### 4 - Faça um Programa que peça a temperatura em graus Farenheit, transforme e mostre a temperatura em graus Celsius. C = (5 * (F-32) / 9)."
   ]
  },
  {
   "cell_type": "code",
   "execution_count": 15,
   "metadata": {},
   "outputs": [
    {
     "name": "stdout",
     "output_type": "stream",
     "text": [
      "Digite a temperatura em farenheit 75\n",
      "A temperatura em Celsius  23.88888888888889\n"
     ]
    }
   ],
   "source": [
    "temperaturaF = int(input(\"Digite a temperatura em farenheit \"))\n",
    "temperaturaC = (5*(temperaturaF-32)/9)\n",
    "print(\"A temperatura em Celsius \", temperaturaC)"
   ]
  },
  {
   "cell_type": "markdown",
   "metadata": {},
   "source": [
    "### 5 - Faça um Programa que peça a temperatura em graus Celsius, transforme e mostre em graus Farenheit."
   ]
  },
  {
   "cell_type": "code",
   "execution_count": 19,
   "metadata": {},
   "outputs": [
    {
     "name": "stdout",
     "output_type": "stream",
     "text": [
      "Digite a temperatura em celsius 0\n",
      "Temperatura em Fahrenheit  32.0\n"
     ]
    }
   ],
   "source": [
    "tempCelsius = int(input(\"Digite a temperatura em celsius \"))\n",
    "tempFahren = (tempCelsius * 5/9) + 32\n",
    "print(\"Temperatura em Fahrenheit \", tempFahren)"
   ]
  },
  {
   "cell_type": "markdown",
   "metadata": {},
   "source": [
    "### 6 - Faça um Programa que peça 2 números inteiros e um número real. Calcule e mostre: \n",
    "- o produto do dobro do primeiro com metade do segundo . \n",
    "- a soma do triplo do primeiro com o terceiro.\n",
    "- o terceiro elevado ao cubo."
   ]
  },
  {
   "cell_type": "code",
   "execution_count": 23,
   "metadata": {},
   "outputs": [
    {
     "name": "stdout",
     "output_type": "stream",
     "text": [
      "Digite um número 1\n",
      "Digite outro número 2\n",
      "Digite um número real 3\n",
      "o produto do dobro do primeiro com metade do segundo:  2.0\n",
      "a soma do triplo do primeiro com o terceiro:  6.0\n",
      "o terceiro elevado ao cubo:  27.0\n"
     ]
    }
   ],
   "source": [
    "num1 = int(input(\"Digite um número \"))\n",
    "num2 = int(input(\"Digite outro número \"))\n",
    "numReal = float(input(\"Digite um número real \"))\n",
    "\n",
    "a = (num1*2) * (num2/2)\n",
    "b = num1*3 + numReal\n",
    "c = numReal**3\n",
    "\n",
    "print(\"o produto do dobro do primeiro com metade do segundo: \", a)\n",
    "print(\"a soma do triplo do primeiro com o terceiro: \", b)\n",
    "print(\"o terceiro elevado ao cubo: \", c)"
   ]
  },
  {
   "cell_type": "markdown",
   "metadata": {},
   "source": [
    "### 7 - João Papo-de-Pescador, homem de bem, comprou um microcomputador para controlar o rendimento diário de seu trabalho. Toda vez que ele traz um peso de peixes maior que o estabelecido pelo regulamento de pesca do estado de São Paulo (50 quilos) deve pagar uma multa de RS 4,00 por quilo excedente. João precisa que você faça um programa que leia a variável peso (peso de peixes) e verifique se há excesso. Se houver, gravar na variável excesso e na variável multa o valor da multa que João deverá pagar. Caso contrário mostrar tais variáveis com o conteúdo ZERO."
   ]
  },
  {
   "cell_type": "code",
   "execution_count": 24,
   "metadata": {},
   "outputs": [
    {
     "name": "stdout",
     "output_type": "stream",
     "text": [
      "Digite o peso 551.67\n",
      "excesso: 501.66999999999996; multa: 2006.6799999999998  \n",
      "excesso: 501.67; multa:   2.01e+03 \n"
     ]
    }
   ],
   "source": [
    "peso = float(input(\"Digite o peso \"))\n",
    "excesso = peso - 50\n",
    "if excesso < 0:\n",
    "    excesso = 0\n",
    "multa = excesso * 4\n",
    "print(f'excesso: {excesso}; multa: {multa}  ')\n",
    "print(f'excesso: {excesso:.2f}; multa: {multa:{10}.{3}} ')"
   ]
  },
  {
   "cell_type": "code",
   "execution_count": null,
   "metadata": {},
   "outputs": [],
   "source": []
  }
 ],
 "metadata": {
  "kernelspec": {
   "display_name": "Python 3",
   "language": "python",
   "name": "python3"
  },
  "language_info": {
   "codemirror_mode": {
    "name": "ipython",
    "version": 3
   },
   "file_extension": ".py",
   "mimetype": "text/x-python",
   "name": "python",
   "nbconvert_exporter": "python",
   "pygments_lexer": "ipython3",
   "version": "3.7.0"
  }
 },
 "nbformat": 4,
 "nbformat_minor": 2
}
