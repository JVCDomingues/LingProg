{
 "cells": [
  {
   "cell_type": "markdown",
   "metadata": {},
   "source": [
    "### João Victor Cardoso Domingues - 8171248"
   ]
  },
  {
   "cell_type": "markdown",
   "metadata": {},
   "source": [
    "### 1 - Crie um programa que recebe uma lista de números e\n",
    "\n",
    "- retorne o maior elemento\n",
    "- retorne a soma dos elementos\n",
    "- retorne o número de ocorrências do primeiro elemento da lista\n",
    "- retorne a média dos elementos\n",
    "- retorne o valor mais próximo da média dos elementos\n",
    "- retorne a soma dos elementos com valor negativo\n",
    "- retorne a quantidade de vizinhos iguais"
   ]
  },
  {
   "cell_type": "code",
   "execution_count": 1,
   "metadata": {},
   "outputs": [
    {
     "name": "stdout",
     "output_type": "stream",
     "text": [
      "Maior elemento da lista: 3\n",
      "Soma dos elementos: -1\n",
      "Número de ocorrências do primeiro elemento da lista: 1\n",
      "Média dos elementos: -0.1111111111111111\n",
      "Valor mais próximo da média dos elementos: 0\n",
      "Soma dos números negativos: -10\n",
      "Quantidade de vizinhos iguais: 2\n"
     ]
    }
   ],
   "source": [
    "lista = [-4,-3,-2,-1,0,1,2,3,3]\n",
    "\n",
    "maior = max(lista)\n",
    "print(\"Maior elemento da lista:\", maior)\n",
    "soma = sum(lista)\n",
    "print(\"Soma dos elementos:\", soma)\n",
    "\n",
    "primeiro = lista.count(lista[0])\n",
    "print(\"Número de ocorrências do primeiro elemento da lista:\", primeiro)\n",
    "media = soma/len(lista)\n",
    "print(\"Média dos elementos:\", media)\n",
    "\n",
    "diffs = {value: abs(value - media) for value in lista}\n",
    "print(f'Valor mais próximo da média dos elementos: {min(diffs, key=diffs.get)}')\n",
    "negativos = sum(item for item in lista if item < 0)\n",
    "print(\"Soma dos números negativos:\", negativos)\n",
    "\n",
    "vizinhos = 0\n",
    "i=0\n",
    "\n",
    "while i < len(lista):\n",
    "    if i < len(lista) - 1:\n",
    "        if lista[i] == lista[i+1]:\n",
    "            vizinhos += 1\n",
    "    if i > 0 :\n",
    "        if lista[i] == lista[i-1]:\n",
    "            vizinhos += 1\n",
    "    i += 1\n",
    "\n",
    "print(\"Quantidade de vizinhos iguais:\", vizinhos)"
   ]
  },
  {
   "cell_type": "markdown",
   "metadata": {},
   "source": [
    "### 2 - Faça um programa que receba duas listas e retorne True se são iguais ou False caso contrario. Duas listas são iguais se possuem os mesmos valores e na mesma ordem."
   ]
  },
  {
   "cell_type": "code",
   "execution_count": 2,
   "metadata": {},
   "outputs": [
    {
     "name": "stdout",
     "output_type": "stream",
     "text": [
      "[2, 8, 4, 9, 8, 5, 3, 7, 4, 8]\n",
      "[3, 7, 3, 9, 0, 3, 7, 5, 6, 4]\n",
      "São iguais? False\n"
     ]
    }
   ],
   "source": [
    "import random\n",
    "lista1 = [random.randrange(0,10) for num in range(10)]\n",
    "lista2 = [random.randrange(0,10) for num in range(10)]\n",
    "\n",
    "print(lista1)\n",
    "print(lista2)\n",
    "print(\"São iguais?\", lista1==lista2)"
   ]
  },
  {
   "cell_type": "markdown",
   "metadata": {},
   "source": [
    "### 3 - Faça um programa que receba duas listas e retorne True se têm os mesmos elementos ou False caso contrário Duas listas possuem os mesmos elementos quando são compostas pelos mesmos valores, mas não obrigatoriamente na mesma ordem."
   ]
  },
  {
   "cell_type": "code",
   "execution_count": 3,
   "metadata": {},
   "outputs": [
    {
     "name": "stdout",
     "output_type": "stream",
     "text": [
      "Lista 1: [7, 2, 8, 2, 8, 9, 1, 4, 7, 7]\n",
      "Lista 2: [4, 3, 4, 5, 0, 5, 5, 2, 9, 8]\n",
      "Tem os mesmos elementos? False\n"
     ]
    }
   ],
   "source": [
    "import random\n",
    "lista1 = [random.randrange(0,10) for num in range(10)]\n",
    "lista2 = [random.randrange(0,10) for num in range(10)]\n",
    "\n",
    "print(\"Lista 1:\", lista1)\n",
    "print(\"Lista 2:\", lista2)\n",
    "\n",
    "verificacao = len([num for num in lista1 if num not in lista2]) == 0 and len([num for num in lista2 if num not in lista1])\n",
    "\n",
    "print(\"Tem os mesmos elementos?\", verificacao)"
   ]
  },
  {
   "cell_type": "markdown",
   "metadata": {},
   "source": [
    "### 4 - Faça um programa que percorre uma lista com o seguinte formato: [['Brasil','Italia', [10, 9]], ['Brasil','Espanha', [5, 7]], ['Italia', 'Espanha', [7,8]]]. Essa lista indica o número de faltas que cada time fez em cada jogo. Na lista acima, no jogo entre Brasil e Itália, o Brasil fez 10 faltas e a Itália fez 9. O programa deve imprimir na tela:\n",
    "- o total de faltas do campeonato\n",
    "- o time que fez mais faltas\n",
    "- o time que fez menos faltas"
   ]
  },
  {
   "cell_type": "code",
   "execution_count": 4,
   "metadata": {},
   "outputs": [
    {
     "name": "stdout",
     "output_type": "stream",
     "text": [
      "Total de faltas: 46\n",
      "Time com mais faltas: Itália - 16 faltas\n",
      "Time com menos faltas: Brasil - 15 faltas\n"
     ]
    }
   ],
   "source": [
    "lista = [['Brasil', 'Itália', [10, 9]], ['Brasil', 'Espanha', [5, 7]], ['Itália', 'Espanha', [7,8]]]\n",
    "\n",
    "totalFaltas = 0\n",
    "for jogo in lista:\n",
    "    totalFaltas += jogo[2][0]\n",
    "    totalFaltas += jogo[2][1]\n",
    "    \n",
    "print(\"Total de faltas:\", totalFaltas)\n",
    "\n",
    "d = {}\n",
    "for jogo in lista:\n",
    "    d[jogo[0]] = 0\n",
    "    d[jogo[1]] = 0\n",
    "\n",
    "\n",
    "for jogo in lista:\n",
    "    d[jogo[0]] += jogo[2][0]\n",
    "    d[jogo[1]] += jogo[2][1]\n",
    "    \n",
    "print(f'Time com mais faltas: {max(d)} - {d[max(d)]} faltas')\n",
    "print(f'Time com menos faltas: {min(d)} - {d[min(d)]} faltas')"
   ]
  },
  {
   "cell_type": "markdown",
   "metadata": {},
   "source": [
    "### 5 - Escreva um programa que conta a quantidade de vogais em uma string e armazena tal quantidade em um dicionário, onde a chave é a vogal considerada."
   ]
  },
  {
   "cell_type": "code",
   "execution_count": 5,
   "metadata": {},
   "outputs": [
    {
     "name": "stdout",
     "output_type": "stream",
     "text": [
      "Quantidade de A's: 6\n",
      "Quantidade de E's: 3\n",
      "Quantidade de I's: 2\n",
      "Quantidade de O's: 2\n",
      "Quantidade de U's: 1\n"
     ]
    }
   ],
   "source": [
    "string = \"Linguagens e Paradigmas de Programação\"\n",
    "\n",
    "#dicionario\n",
    "dic = {\n",
    "    \"a\": 0,\n",
    "    \"e\": 0,\n",
    "    \"i\": 0,\n",
    "    \"o\": 0,\n",
    "    \"u\": 0,\n",
    "}\n",
    "\n",
    "for letra in string:\n",
    "    if letra.lower() == \"a\":\n",
    "        dic[\"a\"] += 1\n",
    "    if letra.lower() == \"e\":\n",
    "        dic[\"e\"] += 1\n",
    "    if letra.lower() == \"i\":\n",
    "        dic[\"i\"] += 1\n",
    "    if letra.lower() == \"o\":\n",
    "        dic[\"o\"] += 1\n",
    "    if letra.lower() == \"u\":\n",
    "        dic[\"u\"] += 1\n",
    "        \n",
    "print(\"Quantidade de A's:\", dic[\"a\"])\n",
    "print(\"Quantidade de E's:\", dic[\"e\"])\n",
    "print(\"Quantidade de I's:\", dic[\"i\"])\n",
    "print(\"Quantidade de O's:\", dic[\"o\"])\n",
    "print(\"Quantidade de U's:\", dic[\"u\"])"
   ]
  },
  {
   "cell_type": "markdown",
   "metadata": {},
   "source": [
    "### 6 - Escreva um programa que lê̂ duas notas de vários alunos e armazena tais notas em um dicionário, onde a chave é o nome do aluno. A entrada de dados deve terminar quando for lida uma string vazia como nome. Escreva uma função que retorna a média do aluno, dado seu nome."
   ]
  },
  {
   "cell_type": "code",
   "execution_count": 6,
   "metadata": {},
   "outputs": [
    {
     "name": "stdout",
     "output_type": "stream",
     "text": [
      "Informe o nome do aluno: João\n",
      "Informe a primeira nota: 6.5\n",
      "Informe a segunda nota: 9.0\n",
      "Informe o nome do aluno: Jobson\n",
      "Informe a primeira nota: 3.5\n",
      "Informe a segunda nota: 7.0\n",
      "Informe o nome do aluno: \n",
      "Média de qual aluno? João\n"
     ]
    },
    {
     "data": {
      "text/plain": [
       "7.75"
      ]
     },
     "execution_count": 6,
     "metadata": {},
     "output_type": "execute_result"
    }
   ],
   "source": [
    "alunos = {}\n",
    "nome = input(\"Informe o nome do aluno: \")\n",
    "while nome != \"\":\n",
    "    alunos[nome] = [\n",
    "        float(input(\"Informe a primeira nota: \")),\n",
    "        float(input(\"Informe a segunda nota: \"))\n",
    "    ]\n",
    "    nome = input(\"Informe o nome do aluno: \")\n",
    "\n",
    "def media(nome):\n",
    "    return (alunos[nome][0] + alunos[nome][1]) / 2\n",
    "\n",
    "media(input(\"Média de qual aluno? \"))"
   ]
  },
  {
   "cell_type": "markdown",
   "metadata": {},
   "source": [
    "### 7 - Uma pista de Kart permite 10 voltas para cada um de 6 corredores. Escreva um programa que leia todos os tempos em segundos e os guarde em um dicionário, onde a chave é o nome do corredor. Ao final diga de quem foi a melhor volta da prova e em que volta; e ainda a classificação final em ordem (1o o campeão). O campeão é o que tem a menor média de tempos."
   ]
  },
  {
   "cell_type": "code",
   "execution_count": 7,
   "metadata": {},
   "outputs": [
    {
     "name": "stdout",
     "output_type": "stream",
     "text": [
      "A melhor volta foi a 1º volta do Fernando, realizada em 51 segundos\n",
      "1° lugar: Caio - 58.6 segs.\n",
      "2° lugar: Fernando - 59.6 segs.\n",
      "3° lugar: João - 60.9 segs.\n",
      "4° lugar: Gabriel - 61.4 segs.\n",
      "5° lugar: Christian - 61.5 segs.\n",
      "6° lugar: Robson - 62.5 segs.\n"
     ]
    }
   ],
   "source": [
    "import random\n",
    "import operator\n",
    "##dicionario para guardar os corredores e o tempo em seg.\n",
    "dicionario = { \"João\": [57, 57, 65, 53, 68, 54, 66, 63, 66, 60],\n",
    "               \"Fernando\": [70, 51, 56, 52, 65, 54, 59, 62, 60, 67],\n",
    "               \"Gabriel\": [61, 69, 53, 58, 64, 63, 53, 70, 54, 69],\n",
    "               \"Robson\": [69, 62, 63, 62, 59, 63, 54, 54, 69, 70],\n",
    "               \"Caio\": [54, 57, 61, 55, 53, 61, 68, 62, 60, 55],\n",
    "               \"Christian\": [67, 52, 63, 64, 59, 57, 70, 56, 58, 69]\n",
    "             }\n",
    "\n",
    "volta = 0\n",
    "medias = dicionario\n",
    "nome = \"\"\n",
    "melhorVolta = [\"João\", 0, dicionario[\"João\"][0]]\n",
    "for chave in dicionario:\n",
    "    soma = 0\n",
    "    for i, num in enumerate(dicionario[chave]):\n",
    "        if num < melhorVolta[2]:\n",
    "            melhorVolta = [chave, i, num]\n",
    "            nome = chave\n",
    "        soma += num\n",
    "    medias[chave] = soma / 10\n",
    "\n",
    "print(f'A melhor volta foi a {melhorVolta[1]}º volta do {melhorVolta[0]}, realizada em {melhorVolta[2]} segundos')   \n",
    "\n",
    "\n",
    "###classificaçao final\n",
    "sort = sorted(medias.items(), key=operator.itemgetter(1))\n",
    "for i in range(0, 6):\n",
    "    print(\"%s° lugar: %s - %s segs.\" % (i + 1, sort[i][0], sort[i][1]))"
   ]
  },
  {
   "cell_type": "markdown",
   "metadata": {},
   "source": [
    "### 8 - Escreva um programa para armazenar uma agenda de telefones em um dicionário. Cada pessoa pode ter um ou mais telefones e a chave do dicionário é o nome da pessoa. Seu programa deve ter as seguintes funções:\n",
    "- incluirNovoNome – essa função acrescenta um novo nome na agenda, com um ou\n",
    "mais telefones. Ela deve receber como argumentos o nome e os telefones.\n",
    "- incluirTelefone – essa função acrescenta um telefone em um nome existente na\n",
    "agenda. Caso o nome não exista na agenda, você̂ deve perguntar se a pessoa deseja\n",
    "inclui-lo. Caso a resposta seja afirmativa, use a função anterior para incluir o novo\n",
    "nome.\n",
    "- excluirTelefone – essa função exclui um telefone de uma pessoa que já está na\n",
    "agenda. Se a pessoa tiver apenas um telefone, ela deve ser excluída da agenda.\n",
    "- excluirNome – essa função exclui uma pessoa da agenda."
   ]
  },
  {
   "cell_type": "code",
   "execution_count": 8,
   "metadata": {},
   "outputs": [
    {
     "name": "stdout",
     "output_type": "stream",
     "text": [
      "\n",
      "Escolha uma opção: \n",
      "1 - Incluir Novo Nome\n",
      "2 - Incluir Telefone\n",
      "3 - Excluir Telefone\n",
      "4 - Consultar Agenda\n",
      "0 - Encerrar Programa\n",
      "1\n",
      "Insira o nome da pessoa: João\n",
      "Insira um telefone da pessoa: 27991677\n",
      "Inserir outro telefone (ou digite 0 para parar): 21154152\n",
      "Inserir outro telefone (ou digite 0 para parar): 0\n",
      "\n",
      "Escolha uma opção: \n",
      "1 - Incluir Novo Nome\n",
      "2 - Incluir Telefone\n",
      "3 - Excluir Telefone\n",
      "4 - Consultar Agenda\n",
      "0 - Encerrar Programa\n",
      "4\n",
      "Insira o nome da pessoa: Roberto\n",
      "\n",
      "Escolha uma opção: \n",
      "1 - Incluir Novo Nome\n",
      "2 - Incluir Telefone\n",
      "3 - Excluir Telefone\n",
      "4 - Consultar Agenda\n",
      "0 - Encerrar Programa\n",
      "4\n",
      "Insira o nome da pessoa: Marcos\n",
      "\n",
      "Escolha uma opção: \n",
      "1 - Incluir Novo Nome\n",
      "2 - Incluir Telefone\n",
      "3 - Excluir Telefone\n",
      "4 - Consultar Agenda\n",
      "0 - Encerrar Programa\n",
      "0\n"
     ]
    }
   ],
   "source": [
    "agenda = {}\n",
    "\n",
    "def incluirNovoNome(nome, telefones):\n",
    "    global agenda\n",
    "    agenda[nome] = telefones\n",
    "    \n",
    "def incluirTelefone(nome, telefone):\n",
    "    global agenda\n",
    "    if nome in agenda.keys():\n",
    "        agenda[nome].append(telefone)\n",
    "    else:\n",
    "        if input(\"Essa pessoa não existe, incluir ela na agenda (s/n)? \") == \"s\":\n",
    "            telefones = [telefone]\n",
    "            incluirNovoNome(nome, telefones)\n",
    "            \n",
    "def excluirTelefone(nome, telefone):\n",
    "    global agenda\n",
    "    if nome in agenda.keys():\n",
    "        if len(agenda[nome]) == 1:\n",
    "            del agenda[nome]\n",
    "        else:\n",
    "            for num in range(0, len(agenda[nome]) - 1):\n",
    "                if telefone == agenda[nome][num]:\n",
    "                    agenda[nome].pop(num)\n",
    "        \n",
    "def consultarTelefone(nome):\n",
    "    global agenda\n",
    "    if nome in agenda.keys():\n",
    "        print(agenda[nome])\n",
    "    \n",
    "opcao = -1\n",
    "while opcao != 0:\n",
    "    opcao = int(input(\"\\nEscolha uma opção: \\n1 - Incluir Novo Nome\\n2 - Incluir Telefone\\n3 - Excluir Telefone\\n4 - Consultar Agenda\\n0 - Encerrar Programa\\n\"))\n",
    "    \n",
    "    # INSERIR NOVO NOME\n",
    "    if opcao == 1:\n",
    "        nome = input(\"Insira o nome da pessoa: \")\n",
    "        telefones = []\n",
    "        telefones.append(int(input(\"Insira um telefone da pessoa: \")))\n",
    "        telefone = -1\n",
    "        while telefone != 0:\n",
    "            telefone = int(input(\"Inserir outro telefone (ou digite 0 para parar): \"))\n",
    "            if telefone != 0:\n",
    "                telefones.append(telefone)\n",
    "        incluirNovoNome(nome, telefones)\n",
    "    # INCLUIR TELEFONE\n",
    "    elif opcao == 2:\n",
    "        nome = input(\"Insira o nome da pessoa: \")\n",
    "        telefone = int(input(\"Insira um novo telefone da pessoa: \"))\n",
    "        incluirTelefone(nome, telefone)\n",
    "    # EXCLUIR TELEFONE\n",
    "    elif opcao == 3:\n",
    "        nome = input(\"Insira o nome da pessoa: \")\n",
    "        telefone = int(input(\"Insira o telefone da pessoa a qual deseja excluir: \"))\n",
    "        excluirTelefone(nome, telefone)\n",
    "    elif opcao == 4:\n",
    "        consultarTelefone(input(\"Insira o nome da pessoa: \"))"
   ]
  },
  {
   "cell_type": "markdown",
   "metadata": {},
   "source": [
    "### 9 - Faça um programa que leia um arquivo texto contendo uma lista de endereços IP e gere um outro arquivo, contendo um relatório dos endereços IP válidos e inválidos. O arquivo de entrada possui o seguinte formato:\n",
    "\n",
    "200.135.80.9\n",
    "192.168.1.1\n",
    "8.35.67.74\n",
    "257.32.4.5\n",
    "85.345.1.2\n",
    "1.2.3.4\n",
    "9.8.234.5\n",
    "192.168.0.256\n",
    "O arquivo de saída possui o seguinte formato:\n",
    "[Endereços válidos:]\n",
    "200.135.80.9\n",
    "192.168.1.1\n",
    "8.35.67.74\n",
    "1.2.3.4\n",
    "[Endereços inválidos:]\n",
    "257.32.4.5\n",
    "85.345.1.2\n",
    "9.8.234.5\n",
    "192.168.0.256"
   ]
  },
  {
   "cell_type": "code",
   "execution_count": 9,
   "metadata": {},
   "outputs": [
    {
     "name": "stdout",
     "output_type": "stream",
     "text": [
      "Endereços válidos:\n",
      "\n",
      "127.0.1.1\n",
      "1.2.3.4\n",
      "192.168.1.1\n",
      "127.0.0.2\n",
      "200.135.80.9\n",
      "127.0.0.1\n",
      "9.8.234.5\n",
      "1.1.0.99\n",
      "8.35.67.74\n",
      "Endereços inválidos:\n",
      "\n",
      "257.32.4.5\n",
      "0.168.1.36\n",
      "85.345.1.2\n",
      "0.25.33.19\n",
      "192.168.0.256\n",
      "192.0.0.256\n"
     ]
    }
   ],
   "source": [
    "import re\n",
    "def regex(pattern, string):\n",
    "    capt = re.match(pattern, string)\n",
    "    if bool(capt):\n",
    "        return capt.group()\n",
    "    return False\n",
    "\n",
    "validos = ''\n",
    "invalidos = ''\n",
    "list = {'0.25.33.19', '127.0.1.1','127.0.0.2','127.0.0.1','192.0.0.256','0.168.1.36','1.1.0.99','200.135.80.9','192.168.1.1','8.35.67.74','257.32.4.5','85.345.1.2','1.2.3.4','9.8.234.5','192.168.0.256'}\n",
    "for ip in list:\n",
    "    if ip == '0.0.0.0':\n",
    "        validos = validos + '\\n' + ip\n",
    "    elif regex('^(([1-9]\\.|[1-9][0-9]\\.|1[0-9][0-9]\\.|2[0-4][0-9]\\.|25[0-5]\\.)([0-9]\\.|[1-9][0-9]\\.|1[0-9][0-9]\\.|2[0-4][0-9]\\.|25[0-5]\\.)([0-9]\\.|[1-9][0-9]\\.|1[0-9][0-9]\\.|2[0-4][0-9]\\.|25[0-5]\\.)([0-9]\\.|[1-9][0-9]\\.|1[0-9][0-9]\\.|2[0-4][0-9]\\.|25[0-5]\\.))$', ip + '.'):\n",
    "        validos = validos + '\\n' + ip\n",
    "    else:\n",
    "        invalidos = invalidos + '\\n' + ip\n",
    "\n",
    "print('Endereços válidos:')\n",
    "print(validos)\n",
    "print('Endereços inválidos:')\n",
    "print(invalidos)"
   ]
  },
  {
   "cell_type": "markdown",
   "metadata": {},
   "source": [
    "### 10 - A ACME Inc., uma empresa de 500 funcionários, está tendo problemas de espaço em disco no seu servidor de arquivos. Para tentar resolver este problema, o Administrador de Rede precisa saber qual o espaço ocupado pelos usuários, e identificar os usuários com maior espaço ocupado. Através de um programa, baixado da Internet, ele conseguiu gerar o seguinte arquivo, chamado \"usuarios.txt\":\n",
    "\n",
    "###### alexandre 456123789 anderson 1245698456 antonio 123456456 carlos 91257581 cesar 987458 rosemary 789456125\n",
    "\n",
    "### Neste arquivo, o nome do usuário possui 15 caracteres. A partir deste arquivo, você deve criar um programa que gere um relatório, chamado \"relatório.txt\", no seguinte formato:\n",
    "\n",
    "ACME Inc. Uso do espaço em disco pelos usuários\n",
    "------------------------------------------------------------------------\n",
    "   ### Nr. Usuário Espaço utilizado % do uso\n",
    "   \n",
    "1 alexandre 434,99 MB 16,85%\n",
    "2 anderson 1187,99 MB 46,02%\n",
    "3 antonio 117,73 MB 4,56%\n",
    "4 carlos 87,03 MB 3,37%\n",
    "5 cesar 0,94 MB 0,04%\n",
    "6 rosemary 752,88 MB 29,16%\n",
    "\n",
    "Espaço total ocupado: 2581,57 MB\n",
    "Espaço médio ocupado: 430,26 MB"
   ]
  },
  {
   "cell_type": "code",
   "execution_count": null,
   "metadata": {},
   "outputs": [],
   "source": [
    "def toMB(tamanhoEmBytes):\n",
    "   tamanhoEmBytes = float(tamanhoEmBytes)\n",
    "   return (float(tamanhoEmBytes/(1024*1024)))\n",
    "   \n",
    "def percentualPorUsuario(lista, total):\n",
    "   percentual = (lista[3]/total)*100\n",
    "   #percentual = \"{0:.2f}\".format(percentual)\n",
    "   lista.insert((len(cadaUsuario)),percentual)\n",
    "\n",
    "def espacoMedioOcupado(lista, total):\n",
    "   media = 0\n",
    "   elementos = len(lista)\n",
    "   media = (total)/(elementos+1)\n",
    "   #media = \"{0:.2f}\".format(media)\n",
    "   return media\n",
    "\n",
    "usuarios = []\n",
    "posicao = 1\n",
    "total = media = 0\n",
    "with open (\"usuarios.txt\",\"r\") as arquivo:\n",
    "   valor = 0\n",
    "   for linha in arquivo:\n",
    "      usuarios.append(linha.split()) \n",
    "\n",
    "   for cadaUsuario in usuarios:\n",
    "      cadaUsuario.insert(0,posicao)\n",
    "      valor = toMB(float(cadaUsuario[2]))\n",
    "      total += valor\n",
    "      cadaUsuario.insert((len(cadaUsuario)),valor)\n",
    "      posicao+=1\n",
    "\n",
    "   for cadaUsuario in usuarios:\n",
    "      percentualPorUsuario(cadaUsuario, total)\n",
    "\n",
    "media = espacoMedioOcupado(cadaUsuario,total)\n",
    "\n",
    "with open (\"relatorio.txt\",\"w\") as arquivo:\n",
    "   arquivo.write(\"ACME Inc.               Uso do espaço em disco pelos usuários.\\n\")\n",
    "   arquivo.write(\"--------------------------------------------------------------\\n\")\n",
    "   arquivo.write(\"Nr.\\tUsuário        \\tEspaço utilizado\\t% do uso\\n\\n\")\n",
    "\n",
    "   for cadaUsuario in usuarios:\n",
    "      percentagem=\"{0:.2f}\".format(round(cadaUsuario[3],2))\n",
    "      arquivo.write(str(cadaUsuario[0])+'\\t'+\"{:<15}\".format(cadaUsuario[1])+'\\t'+\"{:<16}\".format(percentagem)+'MB'+'\\t'+\"{0:.2f}\".format(cadaUsuario[4])+'%'+'\\n')\n",
    "\n",
    "   arquivo.write('\\n\\nEspaço Total Ocupado: ' + \"{0:.2f}\".format(total) + ' MB')\n",
    "   arquivo.write('\\n\\nEspaço médio Ocupado: ' + \"{0:.2f}\".format(media) + ' MB')\n",
    "   arquivo.close()\n",
    "\n",
    "with open (\"relatorio.txt\",\"r\") as arquivo:\n",
    "   print(arquivo.read())"
   ]
  },
  {
   "cell_type": "code",
   "execution_count": null,
   "metadata": {},
   "outputs": [],
   "source": []
  }
 ],
 "metadata": {
  "kernelspec": {
   "display_name": "Python 3",
   "language": "python",
   "name": "python3"
  },
  "language_info": {
   "codemirror_mode": {
    "name": "ipython",
    "version": 3
   },
   "file_extension": ".py",
   "mimetype": "text/x-python",
   "name": "python",
   "nbconvert_exporter": "python",
   "pygments_lexer": "ipython3",
   "version": "3.7.1"
  }
 },
 "nbformat": 4,
 "nbformat_minor": 2
}
