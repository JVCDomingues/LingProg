{
 "cells": [
  {
   "cell_type": "markdown",
   "metadata": {},
   "source": [
    "### João Victor Cardoso Domingues - 8171248"
   ]
  },
  {
   "cell_type": "markdown",
   "metadata": {},
   "source": [
    "### 1 - Crie um programa que recebe uma lista de números e\n",
    "\n",
    "- retorne o maior elemento\n",
    "- retorne a soma dos elementos\n",
    "- retorne o número de ocorrências do primeiro elemento da lista\n",
    "- retorne a média dos elementos\n",
    "- retorne o valor mais próximo da média dos elementos\n",
    "- retorne a soma dos elementos com valor negativo\n",
    "- retorne a quantidade de vizinhos iguais"
   ]
  },
  {
   "cell_type": "code",
   "execution_count": 18,
   "metadata": {},
   "outputs": [
    {
     "name": "stdout",
     "output_type": "stream",
     "text": [
      "Maior elemento da lista: 3\n",
      "Soma dos elementos: -1\n",
      "Número de ocorrências do primeiro elemento da lista: 1\n",
      "Média dos elementos: -0.1111111111111111\n",
      "Valor mais próximo da média dos elementos: 0\n",
      "Soma dos números negativos: -10\n",
      "Quantidade de vizinhos iguais: 2\n"
     ]
    }
   ],
   "source": [
    "lista = [-4,-3,-2,-1,0,1,2,3,3]\n",
    "\n",
    "maior = max(lista)\n",
    "print(\"Maior elemento da lista:\", maior)\n",
    "soma = sum(lista)\n",
    "print(\"Soma dos elementos:\", soma)\n",
    "\n",
    "primeiro = lista.count(lista[0])\n",
    "print(\"Número de ocorrências do primeiro elemento da lista:\", primeiro)\n",
    "media = soma/len(lista)\n",
    "print(\"Média dos elementos:\", media)\n",
    "\n",
    "diffs = {value: abs(value - media) for value in lista}\n",
    "print(f'Valor mais próximo da média dos elementos: {min(diffs, key=diffs.get)}')\n",
    "negativos = sum(item for item in lista if item < 0)\n",
    "print(\"Soma dos números negativos:\", negativos)\n",
    "\n",
    "vizinhos = 0\n",
    "i=0\n",
    "\n",
    "while i < len(lista):\n",
    "    if i < len(lista) - 1:\n",
    "        if lista[i] == lista[i+1]:\n",
    "            vizinhos += 1\n",
    "    if i > 0 :\n",
    "        if lista[i] == lista[i-1]:\n",
    "            vizinhos += 1\n",
    "    i += 1\n",
    "\n",
    "print(\"Quantidade de vizinhos iguais:\", vizinhos)"
   ]
  },
  {
   "cell_type": "markdown",
   "metadata": {},
   "source": [
    "### 2 - Faça um programa que receba duas listas e retorne True se são iguais ou False caso contrario. Duas listas são iguais se possuem os mesmos valores e na mesma ordem."
   ]
  },
  {
   "cell_type": "code",
   "execution_count": 21,
   "metadata": {},
   "outputs": [
    {
     "name": "stdout",
     "output_type": "stream",
     "text": [
      "[4, 8, 6, 2, 1, 3, 2, 4, 0, 4]\n",
      "[6, 3, 0, 9, 6, 6, 8, 3, 1, 2]\n",
      "False\n"
     ]
    }
   ],
   "source": [
    "import random\n",
    "lista1 = [random.randrange(0,10) for num in range(10)]\n",
    "lista2 = [random.randrange(0,10) for num in range(10)]\n",
    "\n",
    "print(lista1)\n",
    "print(lista2)\n",
    "print(lista1==lista2)"
   ]
  },
  {
   "cell_type": "markdown",
   "metadata": {},
   "source": [
    "### 3 - Faça um programa que receba duas listas e retorne True se têm os mesmos elementos ou False caso contrário Duas listas possuem os mesmos elementos quando são compostas pelos mesmos valores, mas não obrigatoriamente na mesma ordem."
   ]
  },
  {
   "cell_type": "code",
   "execution_count": 28,
   "metadata": {},
   "outputs": [
    {
     "name": "stdout",
     "output_type": "stream",
     "text": [
      "Lista 1: [0, 1, 2, 5, 7, 0, 9, 8, 7, 9]\n",
      "Lista 2: [2, 4, 0, 7, 7, 8, 3, 2, 8, 8]\n",
      "Tem os mesmos elementos? False\n"
     ]
    }
   ],
   "source": [
    "import random\n",
    "lista1 = [random.randrange(0,10) for num in range(10)]\n",
    "lista2 = [random.randrange(0,10) for num in range(10)]\n",
    "\n",
    "print(\"Lista 1:\", lista1)\n",
    "print(\"Lista 2:\", lista2)\n",
    "\n",
    "verificacao = len([num for num in lista1 if num not in lista2]) == 0 and len([num for num in lista2 if num not in lista1])\n",
    "\n",
    "print(\"Tem os mesmos elementos?\", verificacao)"
   ]
  },
  {
   "cell_type": "markdown",
   "metadata": {},
   "source": [
    "### 4 - Faça um programa que percorre uma lista com o seguinte formato: [['Brasil','Italia', [10, 9]], ['Brasil','Espanha', [5, 7]], ['Italia', 'Espanha', [7,8]]]. Essa lista indica o número de faltas que cada time fez em cada jogo. Na lista acima, no jogo entre Brasil e Itália, o Brasil fez 10 faltas e a Itália fez 9. O programa deve imprimir na tela:\n",
    "- o total de faltas do campeonato\n",
    "- o time que fez mais faltas\n",
    "- o time que fez menos faltas"
   ]
  },
  {
   "cell_type": "code",
   "execution_count": 31,
   "metadata": {},
   "outputs": [
    {
     "name": "stdout",
     "output_type": "stream",
     "text": [
      "Total de faltas: 46\n",
      "Time com mais faltas: Itália - 16 faltas\n",
      "Time com menos faltas: Brasil - 15 faltas\n"
     ]
    }
   ],
   "source": [
    "lista = [['Brasil', 'Itália', [10, 9]], ['Brasil', 'Espanha', [5, 7]], ['Itália', 'Espanha', [7,8]]]\n",
    "\n",
    "totalFaltas = 0\n",
    "for jogo in lista:\n",
    "    totalFaltas += jogo[2][0]\n",
    "    totalFaltas += jogo[2][1]\n",
    "    \n",
    "print(\"Total de faltas:\", totalFaltas)\n",
    "\n",
    "d = {}\n",
    "for jogo in lista:\n",
    "    d[jogo[0]] = 0\n",
    "    d[jogo[1]] = 0\n",
    "\n",
    "\n",
    "for jogo in lista:\n",
    "    d[jogo[0]] += jogo[2][0]\n",
    "    d[jogo[1]] += jogo[2][1]\n",
    "    \n",
    "print(f'Time com mais faltas: {max(d)} - {d[max(d)]} faltas')\n",
    "print(f'Time com menos faltas: {min(d)} - {d[min(d)]} faltas')"
   ]
  },
  {
   "cell_type": "markdown",
   "metadata": {},
   "source": [
    "### 5 - Escreva um programa que conta a quantidade de vogais em uma string e armazena tal quantidade em um dicionário, onde a chave é a vogal considerada."
   ]
  },
  {
   "cell_type": "code",
   "execution_count": 32,
   "metadata": {},
   "outputs": [
    {
     "name": "stdout",
     "output_type": "stream",
     "text": [
      "Quantidade de A's: 6\n",
      "Quantidade de E's: 3\n",
      "Quantidade de I's: 2\n",
      "Quantidade de O's: 2\n",
      "Quantidade de U's: 1\n"
     ]
    }
   ],
   "source": [
    "string = \"Linguagens e Paradigmas de Programação\"\n",
    "\n",
    "#dicionario\n",
    "dic = {\n",
    "    \"a\": 0,\n",
    "    \"e\": 0,\n",
    "    \"i\": 0,\n",
    "    \"o\": 0,\n",
    "    \"u\": 0,\n",
    "}\n",
    "\n",
    "for letra in string:\n",
    "    if letra.lower() == \"a\":\n",
    "        dic[\"a\"] += 1\n",
    "    if letra.lower() == \"e\":\n",
    "        dic[\"e\"] += 1\n",
    "    if letra.lower() == \"i\":\n",
    "        dic[\"i\"] += 1\n",
    "    if letra.lower() == \"o\":\n",
    "        dic[\"o\"] += 1\n",
    "    if letra.lower() == \"u\":\n",
    "        dic[\"u\"] += 1\n",
    "        \n",
    "print(\"Quantidade de A's:\", dic[\"a\"])\n",
    "print(\"Quantidade de E's:\", dic[\"e\"])\n",
    "print(\"Quantidade de I's:\", dic[\"i\"])\n",
    "print(\"Quantidade de O's:\", dic[\"o\"])\n",
    "print(\"Quantidade de U's:\", dic[\"u\"])"
   ]
  },
  {
   "cell_type": "markdown",
   "metadata": {},
   "source": [
    "### 6 - Escreva um programa que lê̂ duas notas de vários alunos e armazena tais notas em um dicionário, onde a chave é o nome do aluno. A entrada de dados deve terminar quando for lida uma string vazia como nome. Escreva uma função que retorna a média do aluno, dado seu nome."
   ]
  },
  {
   "cell_type": "code",
   "execution_count": null,
   "metadata": {},
   "outputs": [
    {
     "name": "stdout",
     "output_type": "stream",
     "text": [
      "Informe o nome do aluno: João\n"
     ]
    }
   ],
   "source": [
    "alunos = {}\n",
    "nome = input(\"Informe o nome do aluno: \")\n",
    "\n",
    "while nome != \"\":\n",
    "    alunos[nome] = [float(input(\"Digite a primeira nota: \")), float(input(\"Digite a segunda nota: \"))]\n",
    "                    \n",
    "    \n",
    "def mediaAluno(nome):\n",
    "    return (alunos[nome][0]+alunos[nome][1])/2\n",
    "\n",
    "media(input(\"Média do aluno: \"))"
   ]
  },
  {
   "cell_type": "code",
   "execution_count": null,
   "metadata": {},
   "outputs": [],
   "source": []
  }
 ],
 "metadata": {
  "kernelspec": {
   "display_name": "Python 3",
   "language": "python",
   "name": "python3"
  },
  "language_info": {
   "codemirror_mode": {
    "name": "ipython",
    "version": 3
   },
   "file_extension": ".py",
   "mimetype": "text/x-python",
   "name": "python",
   "nbconvert_exporter": "python",
   "pygments_lexer": "ipython3",
   "version": "3.7.1"
  }
 },
 "nbformat": 4,
 "nbformat_minor": 2
}
